{
 "cells": [
  {
   "cell_type": "markdown",
   "id": "e81c68f2",
   "metadata": {},
   "source": [
    "# __这个文件不需要运行__"
   ]
  },
  {
   "cell_type": "code",
   "execution_count": 1,
   "id": "6809b40c",
   "metadata": {},
   "outputs": [],
   "source": [
    "from selenium import webdriver\n",
    "from selenium.webdriver.chrome.options import Options\n",
    "import re\n",
    "from bs4 import BeautifulSoup\n",
    "from time import sleep\n",
    "from selenium.webdriver.support.ui import WebDriverWait\n",
    "from selenium.webdriver.support import expected_conditions as EC\n",
    "from selenium.webdriver.common.by import By\n",
    "import pandas as pd\n",
    "from datetime import datetime\n",
    "from threading import Thread"
   ]
  },
  {
   "cell_type": "code",
   "execution_count": 2,
   "id": "68456bf7",
   "metadata": {},
   "outputs": [],
   "source": [
    "def parse_page():\n",
    "    global Data\n",
    "    global parse_sleep\n",
    "    \n",
    "    while True:\n",
    "        sleep(parse_sleep)\n",
    "        \n",
    "        wait.until(EC.presence_of_element_located((By.XPATH, '//*[@id=\"j_market_card\"]')))\n",
    "\n",
    "        try:\n",
    "            next_page = driver.find_elements('xpath', '/html/body/div[5]/div[1]/div[4]/div[2]/ul/li')[-1]\n",
    "            source = driver.execute_script(\"return document.documentElement.outerHTML\")\n",
    "        except:\n",
    "            sleep(5)\n",
    "            source = driver.execute_script(\"return document.documentElement.outerHTML\")\n",
    "            try:\n",
    "                next_page = driver.find_elements('xpath', '/html/body/div[5]/div[1]/div[4]/div[2]/ul/li')[-1]\n",
    "            except:\n",
    "                Data += get_data(source)\n",
    "                break\n",
    "        Data += get_data(source)\n",
    "\n",
    "        if next_page.get_attribute('class')=='':\n",
    "            next_page.click()\n",
    "        else:\n",
    "            break"
   ]
  },
  {
   "cell_type": "code",
   "execution_count": 3,
   "id": "4a471ce5",
   "metadata": {},
   "outputs": [],
   "source": [
    "def get_data(source):\n",
    "    global time\n",
    "    \n",
    "    all_data = []\n",
    "    # 解析HTML代码\n",
    "    soup = BeautifulSoup(source, 'html.parser')\n",
    "\n",
    "    # 获取符合条件的所有<li>元素\n",
    "    li_elements = soup.select('ul.card_csgo li')\n",
    "\n",
    "    # 获取每个<li>元素中的需要的内容\n",
    "    for li in li_elements:\n",
    "        try:\n",
    "            # 获取游戏名称\n",
    "            full_name = li.select_one('a')['title'].strip()\n",
    "            name_without_wear = re.sub(r'\\([^)]*\\)', '', full_name)\n",
    "            pure_name = name_without_wear\n",
    "            if \"★ StatTrak™\" in name_without_wear:\n",
    "                pure_name = name_without_wear.replace(\"★ StatTrak™\", \"\")\n",
    "            if \"Souvenir\" in name_without_wear:\n",
    "                pure_name = name_without_wear.replace(\"Souvenir\", \"\")\n",
    "            if \"StatTrak™\" in name_without_wear:\n",
    "                pure_name = name_without_wear.replace(\"StatTrak™\", \"\")\n",
    "            if \"★\" in name_without_wear:\n",
    "                pure_name = name_without_wear.replace(\"★\", \"\")\n",
    "            \n",
    "            # 获取category\n",
    "            category_list = ['★', 'Souvenir', 'StatTrak™', '★ StatTrak™']\n",
    "            cate = 'Normal'\n",
    "            for category in category_list:\n",
    "                if category in full_name:\n",
    "                    cate = category\n",
    "                    \n",
    "            # 获取type\n",
    "            try:\n",
    "                type_ = pure_name[:pure_name.index('|')-1].strip()\n",
    "            except:\n",
    "                type_ = 'None'\n",
    "                \n",
    "            # skin_name\n",
    "            try:\n",
    "                skin_name = name_without_wear[name_without_wear.index('|')+1 :].strip()\n",
    "            except:\n",
    "                skin_name = name_without_wear\n",
    "        \n",
    "            # 获取价格\n",
    "            price = li.select_one('strong.f_Strong').text.strip()[2:]\n",
    "\n",
    "            # 获取数量\n",
    "            num = li.select_one('span.l_Right').text.strip()\n",
    "\n",
    "            # 获取衣服类别\n",
    "            cloth_info = re.search(r'\\((.*?)\\)', full_name).group(1)\n",
    "\n",
    "            # 将数据保存到字典中\n",
    "            data = {\n",
    "                'Time' : time,\n",
    "                'Full_name': full_name,\n",
    "                'Skin_name': skin_name,\n",
    "                'Price': price,\n",
    "                'Category':cate,\n",
    "                'type':type_,\n",
    "                'On Sale': num,\n",
    "                'Exterior': cloth_info\n",
    "            }\n",
    "            all_data.append(data)\n",
    "        except:\n",
    "            continue\n",
    "\n",
    "    return all_data"
   ]
  },
  {
   "cell_type": "code",
   "execution_count": 4,
   "id": "3a0b9f51",
   "metadata": {},
   "outputs": [],
   "source": [
    "now = datetime.now()\n",
    "time = f'{now.year}-{now.month}-{now.day} {now.hour}:{now.minute}'"
   ]
  },
  {
   "cell_type": "code",
   "execution_count": null,
   "id": "d6f81d76",
   "metadata": {
    "scrolled": true
   },
   "outputs": [
    {
     "name": "stdout",
     "output_type": "stream",
     "text": [
      "========Time is \u001b[1;32m2023-5-28 15:21\u001b[0m========\n",
      "     Start collecting \u001b[1;32mbuff.163.com\u001b[0m     \n",
      "      Current Data Length : \u001b[1;32m8884\u001b[0m       \r"
     ]
    }
   ],
   "source": [
    "Data = []\n",
    "\n",
    "parse_sleep = 2.5\n",
    "\n",
    "url = 'https://buff.163.com/market/csgo#tab=selling&page_num=1'\n",
    "\n",
    "# 初始化\n",
    "options = webdriver.ChromeOptions()\n",
    "options.add_argument(r\"--user-data-dir=/home/nolan/.config/google-chrome/Default\")\n",
    "driver = webdriver.Chrome(options=options)\n",
    "wait = WebDriverWait(driver, 5)\n",
    "\n",
    "print(f'Time is \\033[1;32m{time}\\033[0m'.center(50, '='))\n",
    "print('Start collecting \\033[1;32mbuff.163.com\\033[0m'.center(50, ' '))\n",
    "\n",
    "driver.get(url)\n",
    "\n",
    "# 打开筛选\n",
    "wait.until(EC.presence_of_element_located((By.XPATH, '/html/body/div[5]/div[1]/div[3]/div[1]/div[3]'))).click()\n",
    "\n",
    "sort_button = wait.until(EC.presence_of_element_located((By.XPATH, '//*[@id=\"quantity_li\"]/h6'))).click()\n",
    "\n",
    "#\n",
    "c_list = driver.find_elements(By.XPATH, '//*[@id=\"j_h1z1-selType\"]/div')\n",
    "    \n",
    "for i in c_list[:5]:\n",
    "    \n",
    "    for j in driver.find_elements(By.XPATH, f'//*[@id=\"j_h1z1-selType\"]/div[{c_list.index(i) +1}]/ul/li'):\n",
    "        try:\n",
    "            i.click()\n",
    "            j.click()\n",
    "            parse_page()\n",
    "            sleep(3)\n",
    "            print(f'Current Data Length : \\033[1;32m{len(Data)}\\033[0m'.center(50, ' '), end='\\r')\n",
    "        except:\n",
    "            continue\n",
    "\n",
    "driver.quit()\n",
    "# parse_page()\n",
    "\n",
    "# print(f'\\033[1;32m{name}\\033[0m Successfully Collected !')\n",
    "\n",
    "# driver.quit()\n",
    "\n",
    "# Data = pd.DataFrame(Data)\n",
    "# Data['Kind'] = name\n",
    "# Data.to_csv(f'./price_data/{time}({name}).csv', index=False)\n",
    "# print(f'\\033[1;32m{name}\\033[0m Saved !')"
   ]
  },
  {
   "cell_type": "markdown",
   "id": "6d21ed96",
   "metadata": {},
   "source": [
    "就是上面这个时候(已经收集了8884条数据)我被禁止访问市场数据的。大概是第四次完整测试selenium,我发现虽然绝大多数数据都能收集到，但是有一千条左右的不一定能收集到，我在调参数尝试能不能解决时被封了。"
   ]
  },
  {
   "cell_type": "code",
   "execution_count": null,
   "id": "4dfe9d63",
   "metadata": {},
   "outputs": [],
   "source": [
    "pd.DataFrame(Data).to_csv(f'./price_data/{time}.csv', index=False)"
   ]
  }
 ],
 "metadata": {
  "kernelspec": {
   "display_name": "Python 3 (ipykernel)",
   "language": "python",
   "name": "python3"
  },
  "language_info": {
   "codemirror_mode": {
    "name": "ipython",
    "version": 3
   },
   "file_extension": ".py",
   "mimetype": "text/x-python",
   "name": "python",
   "nbconvert_exporter": "python",
   "pygments_lexer": "ipython3",
   "version": "3.10.9"
  }
 },
 "nbformat": 4,
 "nbformat_minor": 5
}
