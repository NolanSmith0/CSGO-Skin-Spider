{
 "cells": [
  {
   "cell_type": "markdown",
   "id": "e81c68f2",
   "metadata": {},
   "source": [
    "# __这个文件不需要运行__\n",
    "\n",
    "这是我通过selenium获取所有皮肤url的文件，基本和```selenium.ipynb```相同."
   ]
  },
  {
   "cell_type": "code",
   "execution_count": 1,
   "id": "6809b40c",
   "metadata": {},
   "outputs": [],
   "source": [
    "from selenium import webdriver\n",
    "from selenium.webdriver.chrome.options import Options\n",
    "import re\n",
    "from bs4 import BeautifulSoup\n",
    "from time import sleep\n",
    "from selenium.webdriver.support.ui import WebDriverWait\n",
    "from selenium.webdriver.support import expected_conditions as EC\n",
    "from selenium.webdriver.common.by import By\n",
    "import pandas as pd\n",
    "from threading import Thread"
   ]
  },
  {
   "cell_type": "code",
   "execution_count": 2,
   "id": "68456bf7",
   "metadata": {},
   "outputs": [],
   "source": [
    "def parse_page():\n",
    "    global Data\n",
    "    global parse_sleep\n",
    "    \n",
    "    while True:\n",
    "        sleep(parse_sleep)\n",
    "        \n",
    "        wait.until(EC.presence_of_element_located((By.XPATH, '//*[@id=\"__layout\"]/div/div[2]/div/div[4]')))\n",
    "\n",
    "        next_page = driver.find_element('xpath', '//*[@id=\"__layout\"]/div/div[2]/div/div[5]/div/button[2]')\n",
    "        source = driver.execute_script(\"return document.documentElement.outerHTML\")\n",
    "\n",
    "        Data += get_data(source)\n",
    "\n",
    "        if next_page.get_attribute('disabled') == None:\n",
    "            next_page.click()\n",
    "        else:\n",
    "            break"
   ]
  },
  {
   "cell_type": "code",
   "execution_count": 3,
   "id": "4a471ce5",
   "metadata": {},
   "outputs": [],
   "source": [
    "def get_data(source):\n",
    "    global time\n",
    "    \n",
    "    all_data = []\n",
    "    # 解析HTML代码\n",
    "    soup = BeautifulSoup(source, 'html.parser')\n",
    "\n",
    "    # 获取符合条件的所有<li>元素\n",
    "    li_elements = soup.select('div[class=\"list list\"] a')\n",
    "\n",
    "    # 获取每个<li>元素中的需要的内容\n",
    "    for li in li_elements:\n",
    "        # 获取url\n",
    "        url = 'https://www.igxe.cn/' + li['href']\n",
    "        all_data.append(url)\n",
    "\n",
    "    return all_data"
   ]
  },
  {
   "cell_type": "code",
   "execution_count": 4,
   "id": "d6f81d76",
   "metadata": {
    "scrolled": true
   },
   "outputs": [
    {
     "name": "stdout",
     "output_type": "stream",
     "text": [
      "     Start collecting \u001b[1;32mbuff.163.com\u001b[0m     \n",
      "      Current Data Length : \u001b[1;32m2482\u001b[0m       \r"
     ]
    }
   ],
   "source": [
    "Data = []\n",
    "\n",
    "parse_sleep = 3\n",
    "\n",
    "url = 'https://www.igxe.cn/market/csgo?exterior_id=615&sort=1&page_size=20'\n",
    "\n",
    "# 初始化\n",
    "options = webdriver.ChromeOptions()\n",
    "options.add_argument(r\"--user-data-dir=/home/nolan/.config/google-chrome/Default\")\n",
    "driver = webdriver.Chrome(options=options)\n",
    "wait = WebDriverWait(driver, 5)\n",
    "\n",
    "print('Start collecting \\033[1;32mbuff.163.com\\033[0m'.center(50, ' '))\n",
    "\n",
    "driver.get(url)\n",
    "\n",
    "# 打开筛选\n",
    "\n",
    "    \n",
    "# for i in c_list[4:7]:\n",
    "for i in driver.find_elements('xpath', '//*[@id=\"__layout\"]/div/div[2]/div/div[2]/div[1]/div[2]/div/div')[:6]:\n",
    "    i.click()\n",
    "    sleep(3)\n",
    "    parse_page()\n",
    "    sleep(3)\n",
    "    print(f'Current Data Length : \\033[1;32m{len(Data)}\\033[0m'.center(50, ' '), end='\\r')\n",
    "\n",
    "driver.quit()\n",
    "\n",
    "# parse_page()\n",
    "\n",
    "# print(f'\\033[1;32m{name}\\033[0m Successfully Collected !')\n",
    "\n",
    "# driver.quit()\n",
    "\n",
    "# Data = pd.DataFrame(Data)\n",
    "# Data['Kind'] = name\n",
    "# Data.to_csv(f'./price_data/{time}({name}).csv', index=False)\n",
    "# print(f'\\033[1;32m{name}\\033[0m Saved !')"
   ]
  },
  {
   "cell_type": "markdown",
   "id": "0d4a0181",
   "metadata": {},
   "source": [
    "这里length只有3398是因为我中途又被封了一个号，换了个朋友的号继续爬取的。 数据全长12599"
   ]
  },
  {
   "cell_type": "code",
   "execution_count": 12,
   "id": "4dfe9d63",
   "metadata": {},
   "outputs": [],
   "source": [
    "pd.DataFrame(Data).to_csv(f'./IGXE_URLs.csv', index=False)"
   ]
  }
 ],
 "metadata": {
  "kernelspec": {
   "display_name": "Python 3 (ipykernel)",
   "language": "python",
   "name": "python3"
  },
  "language_info": {
   "codemirror_mode": {
    "name": "ipython",
    "version": 3
   },
   "file_extension": ".py",
   "mimetype": "text/x-python",
   "name": "python",
   "nbconvert_exporter": "python",
   "pygments_lexer": "ipython3",
   "version": "3.10.9"
  }
 },
 "nbformat": 4,
 "nbformat_minor": 5
}
