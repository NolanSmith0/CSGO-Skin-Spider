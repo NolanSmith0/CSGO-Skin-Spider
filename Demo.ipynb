{
 "cells": [
  {
   "cell_type": "markdown",
   "id": "29989268",
   "metadata": {},
   "source": [
    "# CSGO皮肤价格爬虫演示(Demo)\n",
    "\n",
    "日期 ： 2023-5-18  作者：王佳何\n",
    "\n",
    "---\n",
    "\n",
    "> 请确保您阅读README.md 文件后再体验本notebook\n",
    "\n",
    "__说明__:\n",
    "    \n",
    "* 该文件为```CSGO_Skin_spider.py```的演示版本，主要差别在于没有采用多线程爬取数据，没有保存数据到本地文件\n",
    "\n",
    "* 这里爬取的url也只有两个，保存在同目录demo.txt文件内"
   ]
  },
  {
   "cell_type": "code",
   "execution_count": 1,
   "id": "9ce7d201",
   "metadata": {},
   "outputs": [],
   "source": [
    "import requests\n",
    "import re\n",
    "from datetime import datetime\n",
    "import pandas as pd\n",
    "from threading import Thread\n",
    "import os\n",
    "from bs4 import BeautifulSoup\n",
    "from time import sleep"
   ]
  },
  {
   "cell_type": "code",
   "execution_count": 2,
   "id": "e9e7ea32",
   "metadata": {},
   "outputs": [],
   "source": [
    "def GetData(urls):\n",
    "    global Data\n",
    "    global time\n",
    "    global failed_urls\n",
    "    global FinishedLength\n",
    "    global NumOfFailed\n",
    "    global now\n",
    "    \n",
    "    def CollectOneURL(url):\n",
    "        \n",
    "        all_data = []\n",
    "\n",
    "        data = {}\n",
    "\n",
    "        buff = requests.get(url)\n",
    "\n",
    "        while buff.status_code != 200:\n",
    "            sleep(3)\n",
    "            buff = requests.get(url)\n",
    "\n",
    "        soup = BeautifulSoup(buff.text, 'html.parser')\n",
    "        \n",
    "        # time\n",
    "        data['Time'] = time\n",
    "\n",
    "        # full name\n",
    "        data['Full_name'] = soup.select('div.market-list h1')[0].get_text()\n",
    "        \n",
    "        # skin name\n",
    "        skin_name = data['Full_name'][:data['Full_name'].index('(')]\n",
    "\n",
    "        # quality type and kind\n",
    "        a = soup.select('div[class=\"detail-header black\"]')[0].find('p').get_text().strip().split('|')\n",
    "\n",
    "        data['Quality'] = a[1].split(' ')[0]\n",
    "        data['Type'] = a[2].split(' ')[0]\n",
    "        data['Kind'] = a[-1]\n",
    "\n",
    "        # exterior\n",
    "        data['Exterior'] = soup.select_one('div.scope-btns a[class=\"i_Btn i_Btn_trans_bule active\"]').next_sibling.strip()\n",
    "\n",
    "        # price\n",
    "        data['Price'] = soup.select_one('div.scope-btns a[class=\"i_Btn i_Btn_trans_bule active\"]').next_sibling.next_sibling['data-price']\n",
    "\n",
    "        # num of on sale\n",
    "        data['OnSale'] = soup.select('ul.new-tab li[class=\"selling on\"] a[href=\"javascript:;\"]')[0].get_text()\n",
    "        \n",
    "        all_data.append(data)\n",
    "        \n",
    "        # other exterior\n",
    "        for i in [(i.get_text().strip(), i.find('span')) for i in soup.select('div.scope-btns a[class=\"i_Btn i_Btn_trans_bule j_Goods-jump\"]')]:\n",
    "            if i[0] not in ['崭新出厂', '略有磨损', '久经沙场', '战痕累累', '破损不堪']:\n",
    "                continue\n",
    "            else:\n",
    "                data = {}\n",
    "                data['Time'] = time\n",
    "                data['Full_name'] = skin_name + '(' + i[0] + ')'\n",
    "                data['Quality'] = a[1].split(' ')[0]\n",
    "                data['Type'] = a[2].split(' ')[0]\n",
    "                data['Kind'] = a[-1]\n",
    "                data['Exterior'] = i[0]\n",
    "                data['Price'] = i[1]['data-price']\n",
    "                data['OnSale'] = soup.select('ul.new-tab li[class=\"selling on\"] a[href=\"javascript:;\"]')[0].get_text()\n",
    "                all_data.append(data)\n",
    "        \n",
    "        return all_data\n",
    "    \n",
    "    for url in urls:\n",
    "        try:\n",
    "            Data += CollectOneURL(url)\n",
    "            #print(f'URL \\033[1;32m{url}\\033[0m Collected !'.center(70, ' '), end='\\r')\n",
    "        except:\n",
    "            failed_urls.add(url)\n",
    "            NumOfFailed += 1\n",
    "            #print(f'URL \\033[1;31m{url}\\033[0m Failed......'.center(70, ' '), end='\\r')\n",
    "        FinishedLength += 1\n",
    "        percent = round((FinishedLength / TaskLength)*100, 2)\n",
    "        if FinishedLength > 10:\n",
    "            ExpectedTime = int(float(((datetime.now() - now).total_seconds() / FinishedLength)*(TaskLength - FinishedLength)))\n",
    "            ExpectedTime = '{}h {}min {}sec'.format(ExpectedTime // 3600, (ExpectedTime % 3600) // 60, ExpectedTime % 60)\n",
    "        else:\n",
    "            ExpectedTime = '......'\n",
    "        \n",
    "        sleep(1)\n",
    "        \n",
    "        print(f'Finished: \\033[1;32m{percent}\\033[0m%. Time to finish: \\033[1;32m{ExpectedTime}\\033[0m . Num of Failed: \\033[1;31m{NumOfFailed}\\033[0m / {FinishedLength}'.center(75, ' '), end='\\r')\n",
    "        \n",
    "            \n",
    "    return None"
   ]
  },
  {
   "cell_type": "markdown",
   "id": "ae19b774",
   "metadata": {},
   "source": [
    "---\n",
    "\n",
    "### 这里是demo.txt文件里要爬取的网址，你也可以自己打开查看:\n",
    "    \n",
    "* [M249（StatTrak™） | 岩浆 (战痕累累)](https://buff.163.com/goods/38760)\n",
    "\n",
    "* [AK-47 | 血腥运动 (略有磨损)](https://buff.163.com/goods/33870)"
   ]
  },
  {
   "cell_type": "code",
   "execution_count": 3,
   "id": "04215d6b",
   "metadata": {
    "scrolled": false
   },
   "outputs": [
    {
     "data": {
      "text/plain": [
       "array([['https://buff.163.com/goods/38760'],\n",
       "       ['https://buff.163.com/goods/33870']], dtype=object)"
      ]
     },
     "execution_count": 3,
     "metadata": {},
     "output_type": "execute_result"
    }
   ],
   "source": [
    "pd.read_csv('./demo.txt').values"
   ]
  },
  {
   "cell_type": "code",
   "execution_count": 4,
   "id": "ca8d7dbd",
   "metadata": {
    "scrolled": true
   },
   "outputs": [
    {
     "name": "stdout",
     "output_type": "stream",
     "text": [
      "==============Collecting Started ! Time: 2023-5-31 8:58===============\n",
      "========All Finished ! Time : 2023-5-31 8:58 \u001b[1;32m>>>\u001b[0m 2023-5-31 8:58=======[1;31m0\u001b[0m / 2\n"
     ]
    }
   ],
   "source": [
    "# 收集\n",
    "failed_urls = set()\n",
    "NumOfThreading = 10\n",
    "Data = []\n",
    "now = datetime.now()\n",
    "time = f'{now.year}-{now.month}-{now.day} {now.hour}:{now.minute}'\n",
    "FinishedLength = 0\n",
    "NumOfFailed = 0\n",
    "\n",
    "print(f'Collecting Started ! Time: {time}'.center(70, '='))\n",
    "\n",
    "# 获取url网址, 这里不运行所有url,而是使用Demo来测试\n",
    "\n",
    "url_list = [i[0] for i in pd.read_csv('./demo.txt').values]\n",
    "TaskLength = len(url_list)\n",
    "\n",
    "GetData(url_list)\n",
    "\n",
    "end = datetime.now()\n",
    "print(f'All Finished ! Time : {time} \\033[1;32m>>>\\033[0m {end.year}-{end.month}-{end.day} {end.hour}:{end.minute}'.center(81,'='))\n",
    "\n",
    "# 保存数据\n",
    "#try:\n",
    "#    pd.DataFrame(Data).to_csv(f'./price_data/{time}.csv', index=False)\n",
    "#    print('Data Saved Successfully !'.center(70, '='))\n",
    "#except:\n",
    "#    print('\\033[1;31mERROR OCURED\\033[0m when saving Data')"
   ]
  },
  {
   "cell_type": "markdown",
   "id": "d1f227e1",
   "metadata": {},
   "source": [
    "### 要想查看爬取的所有数据，可以访问Data变量"
   ]
  },
  {
   "cell_type": "code",
   "execution_count": 5,
   "id": "e8ab141d",
   "metadata": {
    "scrolled": false
   },
   "outputs": [
    {
     "data": {
      "text/plain": [
       "[{'Time': '2023-5-31 8:58',\n",
       "  'Full_name': 'M249（StatTrak™） | 岩浆 (战痕累累) ',\n",
       "  'Quality': '军规级',\n",
       "  'Type': 'StatTrak™',\n",
       "  'Kind': '机枪',\n",
       "  'Exterior': '战痕累累',\n",
       "  'Price': '7.94',\n",
       "  'OnSale': '当前在售(6)'},\n",
       " {'Time': '2023-5-31 8:58',\n",
       "  'Full_name': 'M249（StatTrak™） | 岩浆 (崭新出厂)',\n",
       "  'Quality': '军规级',\n",
       "  'Type': 'StatTrak™',\n",
       "  'Kind': '机枪',\n",
       "  'Exterior': '崭新出厂',\n",
       "  'Price': '17.8',\n",
       "  'OnSale': '当前在售(6)'},\n",
       " {'Time': '2023-5-31 8:58',\n",
       "  'Full_name': 'M249（StatTrak™） | 岩浆 (略有磨损)',\n",
       "  'Quality': '军规级',\n",
       "  'Type': 'StatTrak™',\n",
       "  'Kind': '机枪',\n",
       "  'Exterior': '略有磨损',\n",
       "  'Price': '9.16',\n",
       "  'OnSale': '当前在售(6)'},\n",
       " {'Time': '2023-5-31 8:58',\n",
       "  'Full_name': 'M249（StatTrak™） | 岩浆 (久经沙场)',\n",
       "  'Quality': '军规级',\n",
       "  'Type': 'StatTrak™',\n",
       "  'Kind': '机枪',\n",
       "  'Exterior': '久经沙场',\n",
       "  'Price': '8.92',\n",
       "  'OnSale': '当前在售(6)'},\n",
       " {'Time': '2023-5-31 8:58',\n",
       "  'Full_name': 'M249（StatTrak™） | 岩浆 (破损不堪)',\n",
       "  'Quality': '军规级',\n",
       "  'Type': 'StatTrak™',\n",
       "  'Kind': '机枪',\n",
       "  'Exterior': '破损不堪',\n",
       "  'Price': '12',\n",
       "  'OnSale': '当前在售(6)'},\n",
       " {'Time': '2023-5-31 8:58',\n",
       "  'Full_name': 'AK-47 | 血腥运动 (略有磨损) ',\n",
       "  'Quality': '隐秘',\n",
       "  'Type': '普通',\n",
       "  'Kind': '步枪',\n",
       "  'Exterior': '略有磨损',\n",
       "  'Price': '674',\n",
       "  'OnSale': '当前在售(1000+)'},\n",
       " {'Time': '2023-5-31 8:58',\n",
       "  'Full_name': 'AK-47 | 血腥运动 (崭新出厂)',\n",
       "  'Quality': '隐秘',\n",
       "  'Type': '普通',\n",
       "  'Kind': '步枪',\n",
       "  'Exterior': '崭新出厂',\n",
       "  'Price': '898.86',\n",
       "  'OnSale': '当前在售(1000+)'},\n",
       " {'Time': '2023-5-31 8:58',\n",
       "  'Full_name': 'AK-47 | 血腥运动 (久经沙场)',\n",
       "  'Quality': '隐秘',\n",
       "  'Type': '普通',\n",
       "  'Kind': '步枪',\n",
       "  'Exterior': '久经沙场',\n",
       "  'Price': '585',\n",
       "  'OnSale': '当前在售(1000+)'},\n",
       " {'Time': '2023-5-31 8:58',\n",
       "  'Full_name': 'AK-47 | 血腥运动 (破损不堪)',\n",
       "  'Quality': '隐秘',\n",
       "  'Type': '普通',\n",
       "  'Kind': '步枪',\n",
       "  'Exterior': '破损不堪',\n",
       "  'Price': '538',\n",
       "  'OnSale': '当前在售(1000+)'}]"
      ]
     },
     "execution_count": 5,
     "metadata": {},
     "output_type": "execute_result"
    }
   ],
   "source": [
    "Data"
   ]
  }
 ],
 "metadata": {
  "kernelspec": {
   "display_name": "Python 3 (ipykernel)",
   "language": "python",
   "name": "python3"
  },
  "language_info": {
   "codemirror_mode": {
    "name": "ipython",
    "version": 3
   },
   "file_extension": ".py",
   "mimetype": "text/x-python",
   "name": "python",
   "nbconvert_exporter": "python",
   "pygments_lexer": "ipython3",
   "version": "3.10.9"
  }
 },
 "nbformat": 4,
 "nbformat_minor": 5
}
